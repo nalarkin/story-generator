{
 "cells": [
  {
   "cell_type": "code",
   "execution_count": 71,
   "metadata": {},
   "outputs": [],
   "source": [
    "def create_graph():\n",
    "  d = {\n",
    "      \"<sentence>\":[\"<np> <vp>\"],\n",
    "      \"<np>\": [\"<T> <noun>]\",\"<T> <adj> <noun>\"],\n",
    "      \"<vp>\": [\"<T> <noun>]\",\"<T> <adj> <noun>\"],\n",
    "      \"<np>\": [\"<verb> <T> <noun>\", \"<verb> <T> <adj> <noun>\"],\n",
    "      \"<noun>\": [\"dog\",\"cat\"],\n",
    "      \"<verb>\": [\"jumped\",\"saw\", \"hugged\"],\n",
    "      \"<T>\": [\"the\",\"a\"],\n",
    "      \"<adj>\": [\"red\",\"blue\",\"yellow\",\"green\",\"purple\"],\n",
    "      \"<pronoun>\": [\"<pn>\"],\n",
    "      \"<pn>\": [\"<np>\"],\n",
    "  }\n",
    "  return d\n",
    "\n",
    "def test2():\n",
    "  d = {\n",
    "    \"<sentence>\": [\"<vp>\", \"np\"],\n",
    "    \"<vp>\": [\"noun\"],\n",
    "    \"noun\": [\"<vp>\"]\n",
    "  }\n",
    "  return d\n",
    "def test3():\n",
    "  d = {\n",
    "    '1': ['1', '2'],\n",
    "    '2': ['3']\n",
    "  }\n",
    "  return d\n",
    "def test4():\n",
    "  d = {\n",
    "      '1': ['1', '2'],\n",
    "      '2': ['1','3'],\n",
    "  }\n",
    "  return d\n"
   ]
  },
  {
   "cell_type": "code",
   "execution_count": 72,
   "metadata": {},
   "outputs": [
    {
     "name": "stdout",
     "output_type": "stream",
     "text": [
      "{'<sentence>': 0, '<np>': 0, '<vp>': 0, '<noun>': 0, '<verb>': 0, '<T>': 0, '<adj>': 0, '<pronoun>': 0, '<pn>': 0}\n"
     ]
    }
   ],
   "source": [
    "UNVISITED = 0\n",
    "VISITING = 1\n",
    "UNSAFE = 2\n",
    "SAFE = 3\n",
    "graph = create_graph()\n",
    "status = dict([(key, UNVISITED) for key in graph])\n",
    "print(status)"
   ]
  },
  {
   "cell_type": "code",
   "execution_count": 73,
   "metadata": {},
   "outputs": [],
   "source": [
    "def dfs(node, status, graph):\n",
    "  if node not in status or status[node] == SAFE:\n",
    "    return True\n",
    "  if status[node] == VISITING or status[node] == UNSAFE:\n",
    "    return False\n",
    "  status[node] = VISITING\n",
    "  is_safe = False\n",
    "  for option in graph[node]:\n",
    "    sub_options = [dfs(sub_option.strip(), status, graph) for sub_option in option.split()]\n",
    "    if all(sub_options):\n",
    "      is_safe = True\n",
    "  status[node] = SAFE if is_safe else UNSAFE\n",
    "  return is_safe"
   ]
  },
  {
   "cell_type": "code",
   "execution_count": 74,
   "metadata": {},
   "outputs": [],
   "source": [
    "def validate(graph):\n",
    "  status = dict([(key, UNVISITED) for key in graph])\n",
    "  for key in graph:\n",
    "    dfs(key, status, graph)\n",
    "  print(f\"{status=}\")"
   ]
  },
  {
   "cell_type": "markdown",
   "metadata": {},
   "source": [
    "for key in graph.keys()\n",
    "dfs(\"sentence\", status)"
   ]
  },
  {
   "cell_type": "code",
   "execution_count": 88,
   "metadata": {},
   "outputs": [
    {
     "name": "stdout",
     "output_type": "stream",
     "text": [
      "status={'<sentence>': 3, '<np>': 3, '<vp>': 3, '<noun>': 3, '<verb>': 3, '<T>': 3, '<adj>': 3, '<pronoun>': 3, '<pn>': 3}\n",
      "status={'<sentence>': 3, '<vp>': 2, 'noun': 2}\n",
      "status={'1': 3, '2': 3}\n",
      "status={'1': 3, '2': 3}\n"
     ]
    }
   ],
   "source": [
    "validate(create_graph())\n",
    "validate(test2())\n",
    "validate(test3())\n",
    "validate(test4())"
   ]
  }
 ],
 "metadata": {
  "interpreter": {
   "hash": "ac59ebe37160ed0dfa835113d9b8498d9f09ceb179beaac4002f036b9467c963"
  },
  "kernelspec": {
   "display_name": "Python 3.9.6 64-bit",
   "name": "python3"
  },
  "language_info": {
   "codemirror_mode": {
    "name": "ipython",
    "version": 3
   },
   "file_extension": ".py",
   "mimetype": "text/x-python",
   "name": "python",
   "nbconvert_exporter": "python",
   "pygments_lexer": "ipython3",
   "version": "3.9.6"
  },
  "orig_nbformat": 4
 },
 "nbformat": 4,
 "nbformat_minor": 2
}
